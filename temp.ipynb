{
 "cells": [
  {
   "cell_type": "code",
   "execution_count": 28,
   "metadata": {},
   "outputs": [],
   "source": [
    "agms = {0:'tree', 1:'random_forest', 2:'svc'}\n",
    "results = [[0.9598087824351296, 0.9592123752495011, 0.963207984031936, 0.9600075848303392, 0.9614071856287424, 0.9590091816367264, 0.9598087824351296, 0.960605988023952, 0.9570123752495011, 0.9634099800399202], [0.970806387225549, 0.9728051896207586, 0.972408383233533, 0.9714067864271458, 0.9726047904191615, 0.9708051896207586, 0.9720051896207584, 0.9722071856287424, 0.9720043912175649, 0.9720087824351298], [0.9722079840319362, 0.971805988023952, 0.9710063872255489, 0.9714055888223552, 0.971603992015968, 0.9720051896207582, 0.972206387225549, 0.9722055888223554, 0.9726059880239522, 0.9722071856287424]]\n"
   ]
  },
  {
   "cell_type": "code",
   "execution_count": 20,
   "metadata": {},
   "outputs": [],
   "source": [
    "def find_best_agm(tukey_data):\n",
    "    print(\"\\n\", tukey_data, \"\\n\")\n",
    "    true_index = []\n",
    "    false_index = []\n",
    "    agm_to_compare = []\n",
    "    agm_not_insert = []\n",
    "    \n",
    "    for e in tukey_data:\n",
    "        # print(e)\n",
    "        r_value = e[-1]\n",
    "        if r_value:\n",
    "            true_index.append(e)\n",
    "        else:\n",
    "            false_index.append(e)\n",
    "            \n",
    "    print('true -> ', true_index)\n",
    "    print('false -> ', false_index)\n",
    "    \n",
    "    for e in false_index:\n",
    "        if not e[0] in agm_to_compare:\n",
    "            agm_to_compare.append(e[0])\n",
    "            agm_not_insert.append(e[1])\n",
    "        elif not e[1] in agm_to_compare:\n",
    "            agm_to_compare.append(e[1])\n",
    "            agm_not_insert.append(e[0])\n",
    "\n",
    "    for e in true_index:\n",
    "        if not e[0] in agm_to_compare:\n",
    "            if not e[0] in agm_not_insert:\n",
    "                agm_to_compare.append(e[0])\n",
    "        elif not e[1] in agm_to_compare:\n",
    "            if not e[1] in agm_not_insert:\n",
    "                agm_to_compare.append(e[1])\n",
    "    \n",
    "    print('x -> ', agm_to_compare)\n",
    "    return agm_to_compare"
   ]
  },
  {
   "cell_type": "code",
   "execution_count": 30,
   "metadata": {},
   "outputs": [
    {
     "name": "stdout",
     "output_type": "stream",
     "text": [
      "\n",
      " [['random_forest', 'svc', False], ['random_forest', 'tree', True], ['svc', 'tree', True]] \n",
      "\n",
      "true ->  [['random_forest', 'tree', True], ['svc', 'tree', True]]\n",
      "false ->  [['random_forest', 'svc', False]]\n",
      "x ->  ['random_forest', 'tree']\n"
     ]
    }
   ],
   "source": [
    "val = [['random_forest', 'svc', False], ['random_forest', 'tree', True], ['svc', 'tree', True]] \n",
    "a = find_best_agm(val)"
   ]
  },
  {
   "cell_type": "code",
   "execution_count": 31,
   "metadata": {},
   "outputs": [
    {
     "data": {
      "text/plain": [
       "['random_forest', 'tree']"
      ]
     },
     "execution_count": 31,
     "metadata": {},
     "output_type": "execute_result"
    }
   ],
   "source": [
    "a"
   ]
  },
  {
   "cell_type": "code",
   "execution_count": 32,
   "metadata": {},
   "outputs": [
    {
     "data": {
      "text/plain": [
       "dict_values(['tree', 'random_forest', 'svc'])"
      ]
     },
     "execution_count": 32,
     "metadata": {},
     "output_type": "execute_result"
    }
   ],
   "source": [
    "agms.values()"
   ]
  },
  {
   "cell_type": "code",
   "execution_count": 33,
   "metadata": {},
   "outputs": [
    {
     "data": {
      "text/plain": [
       "[[0.970806387225549,\n",
       "  0.9728051896207586,\n",
       "  0.972408383233533,\n",
       "  0.9714067864271458,\n",
       "  0.9726047904191615,\n",
       "  0.9708051896207586,\n",
       "  0.9720051896207584,\n",
       "  0.9722071856287424,\n",
       "  0.9720043912175649,\n",
       "  0.9720087824351298],\n",
       " [0.9598087824351296,\n",
       "  0.9592123752495011,\n",
       "  0.963207984031936,\n",
       "  0.9600075848303392,\n",
       "  0.9614071856287424,\n",
       "  0.9590091816367264,\n",
       "  0.9598087824351296,\n",
       "  0.960605988023952,\n",
       "  0.9570123752495011,\n",
       "  0.9634099800399202]]"
      ]
     },
     "execution_count": 33,
     "metadata": {},
     "output_type": "execute_result"
    }
   ],
   "source": [
    "best_results = []\n",
    "for element in a:\n",
    "        key=list(agms.keys())[list(agms.values()).index(element)]\n",
    "        best_results.append(results[key])\n",
    "best_results"
   ]
  }
 ],
 "metadata": {
  "kernelspec": {
   "display_name": ".venv",
   "language": "python",
   "name": "python3"
  },
  "language_info": {
   "codemirror_mode": {
    "name": "ipython",
    "version": 3
   },
   "file_extension": ".py",
   "mimetype": "text/x-python",
   "name": "python",
   "nbconvert_exporter": "python",
   "pygments_lexer": "ipython3",
   "version": "3.9.15 (main, Dec  7 2022, 13:49:47) \n[GCC 12.2.0]"
  },
  "orig_nbformat": 4,
  "vscode": {
   "interpreter": {
    "hash": "2e1ba1cf728a9dc749dda2ed56e07588ceae704ac4416f7a855dcdd38aa5e626"
   }
  }
 },
 "nbformat": 4,
 "nbformat_minor": 2
}
