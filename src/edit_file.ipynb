{
 "cells": [
  {
   "cell_type": "code",
   "execution_count": 46,
   "metadata": {},
   "outputs": [],
   "source": [
    "\n",
    "# Python program to replace text in a file\n",
    "a1 = 'return {\"prediction\": predictions[\"prediction_label\"].iloc[0]}'\n",
    "a2 = 'return {\"prediction\": predictions[\"prediction_label\"].iloc[0], \"score\": predictions[\"prediction_score\"].iloc[0]}'\n",
    "\n",
    "b1 = 'prediction=0'\n",
    "b2 = '**{\"prediction\":0, \"score\":0.8}'\n"
   ]
  },
  {
   "cell_type": "code",
   "execution_count": 47,
   "metadata": {},
   "outputs": [],
   "source": [
    "# Read in the file\n",
    "with open('../api_dataset_edit2.py', 'r') as file :\n",
    "  filedata = file.read()\n",
    "\n",
    "# Replace the target string\n",
    "filedata = filedata.replace(a1, a2)\n",
    "\n",
    "filedata = filedata.replace(b1, b2)\n",
    "\n",
    "# Write the file out again\n",
    "with open('../api_dataset_edit2.py', 'w') as file:\n",
    "  file.write(filedata)"
   ]
  }
 ],
 "metadata": {
  "kernelspec": {
   "display_name": ".venv",
   "language": "python",
   "name": "python3"
  },
  "language_info": {
   "codemirror_mode": {
    "name": "ipython",
    "version": 3
   },
   "file_extension": ".py",
   "mimetype": "text/x-python",
   "name": "python",
   "nbconvert_exporter": "python",
   "pygments_lexer": "ipython3",
   "version": "3.9.16"
  },
  "orig_nbformat": 4
 },
 "nbformat": 4,
 "nbformat_minor": 2
}
